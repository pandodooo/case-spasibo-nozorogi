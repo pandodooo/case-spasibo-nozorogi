{
 "cells": [
  {
   "cell_type": "markdown",
   "id": "f4203ecb",
   "metadata": {},
   "source": [
    "<h1>АНАЛИЗ ДАННЫХ КОМПАНИИ NOZO</h1>"
   ]
  },
  {
   "cell_type": "markdown",
   "id": "2e2ae177",
   "metadata": {},
   "source": [
    "<h2>1. РАЗВЕДОЧНЫЙ АНАЛИЗ ДАННЫХ</h2>"
   ]
  },
  {
   "cell_type": "markdown",
   "id": "45ff92c4",
   "metadata": {},
   "source": [
    "<h3>1.1 ЗАГРУЗКА БИБЛИОТЕК И ЛИСТОВ ИСХОДНОГО ФАЙЛА</h3>"
   ]
  },
  {
   "cell_type": "code",
   "execution_count": 51,
   "id": "8b3c2242",
   "metadata": {},
   "outputs": [],
   "source": [
    "import pandas as pd\n",
    "\n",
    "import warnings\n",
    "warnings.filterwarnings('ignore')\n",
    "\n",
    "from IPython.display import display\n",
    "from IPython.display import display_html\n",
    "\n",
    "%matplotlib inline\n",
    "import matplotlib.colors as mcolors\n",
    "import matplotlib.pyplot as plt\n",
    "\n",
    "from scipy.stats.stats import pearsonr\n",
    "import seaborn as sns"
   ]
  },
  {
   "cell_type": "code",
   "execution_count": 52,
   "id": "7dddb216",
   "metadata": {},
   "outputs": [],
   "source": [
    "xls = pd.ExcelFile('case-spasibo.xlsx')\n",
    "\n",
    "df1 = pd.read_excel(xls, 'Points')\n",
    "df2 = pd.read_excel(xls, 'Clients')\n",
    "df3 = pd.read_excel(xls, 'New clients cohort')"
   ]
  },
  {
   "cell_type": "markdown",
   "id": "da0c2399",
   "metadata": {},
   "source": [
    "<h3>1.2 ЛИСТ \"POINTS\"</h3>"
   ]
  },
  {
   "cell_type": "markdown",
   "id": "679071be",
   "metadata": {},
   "source": [
    "Какой вид имеет данная таблица?"
   ]
  },
  {
   "cell_type": "code",
   "execution_count": 53,
   "id": "b0769baa",
   "metadata": {},
   "outputs": [
    {
     "data": {
      "text/html": [
       "<div>\n",
       "<style scoped>\n",
       "    .dataframe tbody tr th:only-of-type {\n",
       "        vertical-align: middle;\n",
       "    }\n",
       "\n",
       "    .dataframe tbody tr th {\n",
       "        vertical-align: top;\n",
       "    }\n",
       "\n",
       "    .dataframe thead th {\n",
       "        text-align: right;\n",
       "    }\n",
       "</style>\n",
       "<table border=\"1\" class=\"dataframe\">\n",
       "  <thead>\n",
       "    <tr style=\"text-align: right;\">\n",
       "      <th></th>\n",
       "      <th>Unnamed: 0</th>\n",
       "      <th>Unnamed: 1</th>\n",
       "      <th>Unnamed: 2</th>\n",
       "      <th>Unnamed: 3</th>\n",
       "      <th>Unnamed: 4</th>\n",
       "      <th>Unnamed: 5</th>\n",
       "      <th>Unnamed: 6</th>\n",
       "      <th>Unnamed: 7</th>\n",
       "      <th>Unnamed: 8</th>\n",
       "      <th>Unnamed: 9</th>\n",
       "    </tr>\n",
       "  </thead>\n",
       "  <tbody>\n",
       "    <tr>\n",
       "      <th>0</th>\n",
       "      <td>NaN</td>\n",
       "      <td>Month</td>\n",
       "      <td>Accrual points , RUB</td>\n",
       "      <td>Write-off points, RUB</td>\n",
       "      <td>NaN</td>\n",
       "      <td>NaN</td>\n",
       "      <td>NaN</td>\n",
       "      <td>NaN</td>\n",
       "      <td>NaN</td>\n",
       "      <td>NaN</td>\n",
       "    </tr>\n",
       "    <tr>\n",
       "      <th>1</th>\n",
       "      <td>NaN</td>\n",
       "      <td>January 2019</td>\n",
       "      <td>60841048.91</td>\n",
       "      <td>394565298.501031</td>\n",
       "      <td>NaN</td>\n",
       "      <td>NaN</td>\n",
       "      <td>NaN</td>\n",
       "      <td>NaN</td>\n",
       "      <td>NaN</td>\n",
       "      <td>NaN</td>\n",
       "    </tr>\n",
       "    <tr>\n",
       "      <th>2</th>\n",
       "      <td>NaN</td>\n",
       "      <td>February 2019</td>\n",
       "      <td>81611851.159</td>\n",
       "      <td>491432996.503093</td>\n",
       "      <td>NaN</td>\n",
       "      <td>NaN</td>\n",
       "      <td>NaN</td>\n",
       "      <td>NaN</td>\n",
       "      <td>NaN</td>\n",
       "      <td>NaN</td>\n",
       "    </tr>\n",
       "    <tr>\n",
       "      <th>3</th>\n",
       "      <td>NaN</td>\n",
       "      <td>March 2019</td>\n",
       "      <td>73870409.4</td>\n",
       "      <td>457245205.354639</td>\n",
       "      <td>NaN</td>\n",
       "      <td>NaN</td>\n",
       "      <td>NaN</td>\n",
       "      <td>NaN</td>\n",
       "      <td>NaN</td>\n",
       "      <td>NaN</td>\n",
       "    </tr>\n",
       "    <tr>\n",
       "      <th>4</th>\n",
       "      <td>NaN</td>\n",
       "      <td>April 2019</td>\n",
       "      <td>63944494.45</td>\n",
       "      <td>436561210.329897</td>\n",
       "      <td>NaN</td>\n",
       "      <td>NaN</td>\n",
       "      <td>NaN</td>\n",
       "      <td>NaN</td>\n",
       "      <td>NaN</td>\n",
       "      <td>NaN</td>\n",
       "    </tr>\n",
       "  </tbody>\n",
       "</table>\n",
       "</div>"
      ],
      "text/plain": [
       "   Unnamed: 0     Unnamed: 1            Unnamed: 2             Unnamed: 3  \\\n",
       "0         NaN          Month  Accrual points , RUB  Write-off points, RUB   \n",
       "1         NaN   January 2019           60841048.91       394565298.501031   \n",
       "2         NaN  February 2019          81611851.159       491432996.503093   \n",
       "3         NaN     March 2019            73870409.4       457245205.354639   \n",
       "4         NaN     April 2019           63944494.45       436561210.329897   \n",
       "\n",
       "   Unnamed: 4  Unnamed: 5  Unnamed: 6  Unnamed: 7  Unnamed: 8  Unnamed: 9  \n",
       "0         NaN         NaN         NaN         NaN         NaN         NaN  \n",
       "1         NaN         NaN         NaN         NaN         NaN         NaN  \n",
       "2         NaN         NaN         NaN         NaN         NaN         NaN  \n",
       "3         NaN         NaN         NaN         NaN         NaN         NaN  \n",
       "4         NaN         NaN         NaN         NaN         NaN         NaN  "
      ]
     },
     "execution_count": 53,
     "metadata": {},
     "output_type": "execute_result"
    }
   ],
   "source": [
    "df1.head()"
   ]
  },
  {
   "cell_type": "markdown",
   "id": "1d221f70",
   "metadata": {},
   "source": [
    "Необходимо удалить пустые столбцы (0, 4-9), а также изменить заголовки на элементы нулевой строки:"
   ]
  },
  {
   "cell_type": "code",
   "execution_count": 54,
   "id": "a7093719",
   "metadata": {},
   "outputs": [],
   "source": [
    "df1 = df1.drop(df1.columns[[0, 4, 5, 6, 7, 8, 9]], axis=1) # удаляем ненужные столбцы"
   ]
  },
  {
   "cell_type": "code",
   "execution_count": 55,
   "id": "a57db3b3",
   "metadata": {},
   "outputs": [],
   "source": [
    "df1.drop(labels=[0], axis=0, inplace=True) # удаляем нулевую строку"
   ]
  },
  {
   "cell_type": "code",
   "execution_count": 56,
   "id": "255178c4",
   "metadata": {},
   "outputs": [],
   "source": [
    "# переименовываем столбцы\n",
    "\n",
    "df1.rename(columns={\n",
    "    'Unnamed: 1': 'Months',\n",
    "    'Unnamed: 2': 'Accrual points, RUB',\n",
    "    'Unnamed: 3': 'Write-off points, RUB'\n",
    "}, inplace=True)"
   ]
  },
  {
   "cell_type": "code",
   "execution_count": 57,
   "id": "58089a0a",
   "metadata": {},
   "outputs": [
    {
     "data": {
      "text/html": [
       "<div>\n",
       "<style scoped>\n",
       "    .dataframe tbody tr th:only-of-type {\n",
       "        vertical-align: middle;\n",
       "    }\n",
       "\n",
       "    .dataframe tbody tr th {\n",
       "        vertical-align: top;\n",
       "    }\n",
       "\n",
       "    .dataframe thead th {\n",
       "        text-align: right;\n",
       "    }\n",
       "</style>\n",
       "<table border=\"1\" class=\"dataframe\">\n",
       "  <thead>\n",
       "    <tr style=\"text-align: right;\">\n",
       "      <th></th>\n",
       "      <th>Months</th>\n",
       "      <th>Accrual points, RUB</th>\n",
       "      <th>Write-off points, RUB</th>\n",
       "    </tr>\n",
       "  </thead>\n",
       "  <tbody>\n",
       "    <tr>\n",
       "      <th>1</th>\n",
       "      <td>January 2019</td>\n",
       "      <td>60841048.91</td>\n",
       "      <td>394565298.501031</td>\n",
       "    </tr>\n",
       "    <tr>\n",
       "      <th>2</th>\n",
       "      <td>February 2019</td>\n",
       "      <td>81611851.159</td>\n",
       "      <td>491432996.503093</td>\n",
       "    </tr>\n",
       "    <tr>\n",
       "      <th>3</th>\n",
       "      <td>March 2019</td>\n",
       "      <td>73870409.4</td>\n",
       "      <td>457245205.354639</td>\n",
       "    </tr>\n",
       "    <tr>\n",
       "      <th>4</th>\n",
       "      <td>April 2019</td>\n",
       "      <td>63944494.45</td>\n",
       "      <td>436561210.329897</td>\n",
       "    </tr>\n",
       "    <tr>\n",
       "      <th>5</th>\n",
       "      <td>May 2019</td>\n",
       "      <td>66284833.722</td>\n",
       "      <td>448355817.603093</td>\n",
       "    </tr>\n",
       "  </tbody>\n",
       "</table>\n",
       "</div>"
      ],
      "text/plain": [
       "          Months Accrual points, RUB Write-off points, RUB\n",
       "1   January 2019         60841048.91      394565298.501031\n",
       "2  February 2019        81611851.159      491432996.503093\n",
       "3     March 2019          73870409.4      457245205.354639\n",
       "4     April 2019         63944494.45      436561210.329897\n",
       "5       May 2019        66284833.722      448355817.603093"
      ]
     },
     "execution_count": 57,
     "metadata": {},
     "output_type": "execute_result"
    }
   ],
   "source": [
    "df1.head()"
   ]
  },
  {
   "cell_type": "code",
   "execution_count": 58,
   "id": "673e452d",
   "metadata": {},
   "outputs": [
    {
     "data": {
      "text/plain": [
       "(13, 3)"
      ]
     },
     "execution_count": 58,
     "metadata": {},
     "output_type": "execute_result"
    }
   ],
   "source": [
    "df1.shape"
   ]
  },
  {
   "cell_type": "markdown",
   "id": "16f59644",
   "metadata": {},
   "source": [
    "Таблица приведена к необходимому виду. Проверим, нет ли в ней пропусков:"
   ]
  },
  {
   "cell_type": "code",
   "execution_count": 59,
   "id": "f9503dee",
   "metadata": {},
   "outputs": [
    {
     "data": {
      "text/plain": [
       "Months                   0\n",
       "Accrual points, RUB      0\n",
       "Write-off points, RUB    0\n",
       "dtype: int64"
      ]
     },
     "execution_count": 59,
     "metadata": {},
     "output_type": "execute_result"
    }
   ],
   "source": [
    "df1.isna().sum() # сумма пропусков в каждом столбце"
   ]
  },
  {
   "cell_type": "markdown",
   "id": "d0a85c86",
   "metadata": {},
   "source": [
    "Все ячейки заполнены. Последний шаг заключается в преобразовании числовых данных из типа str в float, чтобы с ними можно было производить операции:"
   ]
  },
  {
   "cell_type": "code",
   "execution_count": 60,
   "id": "f9d18bdc",
   "metadata": {},
   "outputs": [
    {
     "data": {
      "text/plain": [
       "Months                    object\n",
       "Accrual points, RUB      float64\n",
       "Write-off points, RUB    float64\n",
       "dtype: object"
      ]
     },
     "execution_count": 60,
     "metadata": {},
     "output_type": "execute_result"
    }
   ],
   "source": [
    "df1['Accrual points, RUB'] = pd.to_numeric(df1['Accrual points, RUB'])\n",
    "df1['Write-off points, RUB'] = pd.to_numeric(df1['Write-off points, RUB'])\n",
    "\n",
    "df1.dtypes"
   ]
  },
  {
   "cell_type": "markdown",
   "id": "d3f1b74b",
   "metadata": {},
   "source": [
    "На этом предобработка данных первого листа таблицы завершена."
   ]
  },
  {
   "cell_type": "markdown",
   "id": "d44d1931",
   "metadata": {},
   "source": [
    "<h3>1.3 ЛИСТ \"CLIENTS\"</h3>"
   ]
  },
  {
   "cell_type": "markdown",
   "id": "87bff997",
   "metadata": {},
   "source": [
    "Какой вид имеет данная таблица?"
   ]
  },
  {
   "cell_type": "code",
   "execution_count": 61,
   "id": "fe66eaa9",
   "metadata": {},
   "outputs": [
    {
     "data": {
      "text/html": [
       "<div>\n",
       "<style scoped>\n",
       "    .dataframe tbody tr th:only-of-type {\n",
       "        vertical-align: middle;\n",
       "    }\n",
       "\n",
       "    .dataframe tbody tr th {\n",
       "        vertical-align: top;\n",
       "    }\n",
       "\n",
       "    .dataframe thead th {\n",
       "        text-align: right;\n",
       "    }\n",
       "</style>\n",
       "<table border=\"1\" class=\"dataframe\">\n",
       "  <thead>\n",
       "    <tr style=\"text-align: right;\">\n",
       "      <th></th>\n",
       "      <th>Unnamed: 0</th>\n",
       "      <th>Unnamed: 1</th>\n",
       "      <th>Unnamed: 2</th>\n",
       "      <th>Unnamed: 3</th>\n",
       "      <th>Unnamed: 4</th>\n",
       "      <th>Unnamed: 5</th>\n",
       "      <th>Unnamed: 6</th>\n",
       "      <th>Unnamed: 7</th>\n",
       "      <th>Unnamed: 8</th>\n",
       "      <th>Unnamed: 9</th>\n",
       "      <th>Unnamed: 10</th>\n",
       "    </tr>\n",
       "  </thead>\n",
       "  <tbody>\n",
       "    <tr>\n",
       "      <th>0</th>\n",
       "      <td>NaN</td>\n",
       "      <td>NaN</td>\n",
       "      <td>NaN</td>\n",
       "      <td>NaN</td>\n",
       "      <td>NaN</td>\n",
       "      <td>NaN</td>\n",
       "      <td>NaN</td>\n",
       "      <td>NaN</td>\n",
       "      <td>NaN</td>\n",
       "      <td>NaN</td>\n",
       "      <td>NaN</td>\n",
       "    </tr>\n",
       "    <tr>\n",
       "      <th>1</th>\n",
       "      <td>NaN</td>\n",
       "      <td>Spasibo Clients</td>\n",
       "      <td>NaN</td>\n",
       "      <td>NaN</td>\n",
       "      <td>NaN</td>\n",
       "      <td>NaN</td>\n",
       "      <td>NOZO Clients</td>\n",
       "      <td>NaN</td>\n",
       "      <td>NaN</td>\n",
       "      <td>NaN</td>\n",
       "      <td>NaN</td>\n",
       "    </tr>\n",
       "    <tr>\n",
       "      <th>2</th>\n",
       "      <td>NaN</td>\n",
       "      <td>Month</td>\n",
       "      <td>Orders</td>\n",
       "      <td>GMV</td>\n",
       "      <td>Items</td>\n",
       "      <td>NaN</td>\n",
       "      <td>Month</td>\n",
       "      <td>Items</td>\n",
       "      <td>GMV</td>\n",
       "      <td>Orders</td>\n",
       "      <td>NaN</td>\n",
       "    </tr>\n",
       "    <tr>\n",
       "      <th>3</th>\n",
       "      <td>NaN</td>\n",
       "      <td>January 2019</td>\n",
       "      <td>1082112.9</td>\n",
       "      <td>1465070096.414447</td>\n",
       "      <td>1778499.2</td>\n",
       "      <td>NaN</td>\n",
       "      <td>January 2019</td>\n",
       "      <td>13993381.7</td>\n",
       "      <td>7404596108.857748</td>\n",
       "      <td>3335760.4</td>\n",
       "      <td>NaN</td>\n",
       "    </tr>\n",
       "    <tr>\n",
       "      <th>4</th>\n",
       "      <td>NaN</td>\n",
       "      <td>February 2019</td>\n",
       "      <td>978052.5</td>\n",
       "      <td>1551898714.676302</td>\n",
       "      <td>2255318.6</td>\n",
       "      <td>NaN</td>\n",
       "      <td>February 2019</td>\n",
       "      <td>18876522.9</td>\n",
       "      <td>7945350332.060995</td>\n",
       "      <td>2820148.7</td>\n",
       "      <td>NaN</td>\n",
       "    </tr>\n",
       "  </tbody>\n",
       "</table>\n",
       "</div>"
      ],
      "text/plain": [
       "   Unnamed: 0        Unnamed: 1 Unnamed: 2         Unnamed: 3 Unnamed: 4  \\\n",
       "0         NaN               NaN        NaN                NaN        NaN   \n",
       "1         NaN  Spasibo Clients         NaN                NaN        NaN   \n",
       "2         NaN             Month     Orders                GMV      Items   \n",
       "3         NaN      January 2019  1082112.9  1465070096.414447  1778499.2   \n",
       "4         NaN     February 2019   978052.5  1551898714.676302  2255318.6   \n",
       "\n",
       "   Unnamed: 5     Unnamed: 6  Unnamed: 7         Unnamed: 8 Unnamed: 9  \\\n",
       "0         NaN            NaN         NaN                NaN        NaN   \n",
       "1         NaN  NOZO Clients          NaN                NaN        NaN   \n",
       "2         NaN          Month       Items                GMV     Orders   \n",
       "3         NaN   January 2019  13993381.7  7404596108.857748  3335760.4   \n",
       "4         NaN  February 2019  18876522.9  7945350332.060995  2820148.7   \n",
       "\n",
       "   Unnamed: 10  \n",
       "0          NaN  \n",
       "1          NaN  \n",
       "2          NaN  \n",
       "3          NaN  \n",
       "4          NaN  "
      ]
     },
     "execution_count": 61,
     "metadata": {},
     "output_type": "execute_result"
    }
   ],
   "source": [
    "df2.head()"
   ]
  },
  {
   "cell_type": "markdown",
   "id": "6c9e01a3",
   "metadata": {},
   "source": [
    "Целесообразно сначала обработать всю таблицу по аналогии с предыдущим пунктом, а потом разделить на два фрейма: по клиентам \"Спасибо\" и по клиентам \"NOZO\" в целом"
   ]
  },
  {
   "cell_type": "code",
   "execution_count": 62,
   "id": "5f96f4dd",
   "metadata": {},
   "outputs": [],
   "source": [
    "df2 = df2.drop(df2.columns[[0, 5, 10]], axis=1) # удаляем ненужные столбцы"
   ]
  },
  {
   "cell_type": "code",
   "execution_count": 63,
   "id": "13135afd",
   "metadata": {},
   "outputs": [],
   "source": [
    "df2.drop(labels=[0], axis=0, inplace=True) # удаляем нулевую строку"
   ]
  },
  {
   "cell_type": "code",
   "execution_count": 64,
   "id": "a1a7fb23",
   "metadata": {},
   "outputs": [],
   "source": [
    "# переименовываем столбцы\n",
    "\n",
    "# _s означает, что столбцы относятся к 'Spasibo clients'\n",
    "# _n означает, что столбцы относятся к 'NOZO clients'\n",
    "\n",
    "df2.rename(columns={\n",
    "    'Unnamed: 1': 'Month_s',\n",
    "    'Unnamed: 2': 'Orders_s',\n",
    "    'Unnamed: 3': 'GMV_s',\n",
    "    'Unnamed: 4': 'Items_s',\n",
    "    \n",
    "    'Unnamed: 6': 'Month_n',\n",
    "    'Unnamed: 7': 'Items_n',\n",
    "    'Unnamed: 8': 'GMV_n',\n",
    "    'Unnamed: 9': 'Orders_n'\n",
    "}, inplace=True)"
   ]
  },
  {
   "cell_type": "code",
   "execution_count": 65,
   "id": "99e171ff",
   "metadata": {},
   "outputs": [],
   "source": [
    "df2.drop(labels=[1, 2], axis=0, inplace=True) # удаляем первые две строки"
   ]
  },
  {
   "cell_type": "code",
   "execution_count": 66,
   "id": "0e41d390",
   "metadata": {},
   "outputs": [
    {
     "data": {
      "text/html": [
       "<div>\n",
       "<style scoped>\n",
       "    .dataframe tbody tr th:only-of-type {\n",
       "        vertical-align: middle;\n",
       "    }\n",
       "\n",
       "    .dataframe tbody tr th {\n",
       "        vertical-align: top;\n",
       "    }\n",
       "\n",
       "    .dataframe thead th {\n",
       "        text-align: right;\n",
       "    }\n",
       "</style>\n",
       "<table border=\"1\" class=\"dataframe\">\n",
       "  <thead>\n",
       "    <tr style=\"text-align: right;\">\n",
       "      <th></th>\n",
       "      <th>Month_s</th>\n",
       "      <th>Orders_s</th>\n",
       "      <th>GMV_s</th>\n",
       "      <th>Items_s</th>\n",
       "    </tr>\n",
       "  </thead>\n",
       "  <tbody>\n",
       "    <tr>\n",
       "      <th>3</th>\n",
       "      <td>January 2019</td>\n",
       "      <td>1082112.9</td>\n",
       "      <td>1465070096.414447</td>\n",
       "      <td>1778499.2</td>\n",
       "    </tr>\n",
       "    <tr>\n",
       "      <th>4</th>\n",
       "      <td>February 2019</td>\n",
       "      <td>978052.5</td>\n",
       "      <td>1551898714.676302</td>\n",
       "      <td>2255318.6</td>\n",
       "    </tr>\n",
       "  </tbody>\n",
       "</table>\n",
       "</div>"
      ],
      "text/plain": [
       "         Month_s   Orders_s              GMV_s    Items_s\n",
       "3   January 2019  1082112.9  1465070096.414447  1778499.2\n",
       "4  February 2019   978052.5  1551898714.676302  2255318.6"
      ]
     },
     "execution_count": 66,
     "metadata": {},
     "output_type": "execute_result"
    }
   ],
   "source": [
    "df2_1 = df2.loc[:, 'Month_s':'Items_s'] # вырезаем датафрейм по клиентам \"Спасибо\"\n",
    "df2_1.head(2)"
   ]
  },
  {
   "cell_type": "code",
   "execution_count": 67,
   "id": "477b8323",
   "metadata": {},
   "outputs": [
    {
     "data": {
      "text/html": [
       "<div>\n",
       "<style scoped>\n",
       "    .dataframe tbody tr th:only-of-type {\n",
       "        vertical-align: middle;\n",
       "    }\n",
       "\n",
       "    .dataframe tbody tr th {\n",
       "        vertical-align: top;\n",
       "    }\n",
       "\n",
       "    .dataframe thead th {\n",
       "        text-align: right;\n",
       "    }\n",
       "</style>\n",
       "<table border=\"1\" class=\"dataframe\">\n",
       "  <thead>\n",
       "    <tr style=\"text-align: right;\">\n",
       "      <th></th>\n",
       "      <th>Month_n</th>\n",
       "      <th>Items_n</th>\n",
       "      <th>GMV_n</th>\n",
       "      <th>Orders_n</th>\n",
       "    </tr>\n",
       "  </thead>\n",
       "  <tbody>\n",
       "    <tr>\n",
       "      <th>3</th>\n",
       "      <td>January 2019</td>\n",
       "      <td>13993381.7</td>\n",
       "      <td>7404596108.857748</td>\n",
       "      <td>3335760.4</td>\n",
       "    </tr>\n",
       "    <tr>\n",
       "      <th>4</th>\n",
       "      <td>February 2019</td>\n",
       "      <td>18876522.9</td>\n",
       "      <td>7945350332.060995</td>\n",
       "      <td>2820148.7</td>\n",
       "    </tr>\n",
       "  </tbody>\n",
       "</table>\n",
       "</div>"
      ],
      "text/plain": [
       "         Month_n     Items_n              GMV_n   Orders_n\n",
       "3   January 2019  13993381.7  7404596108.857748  3335760.4\n",
       "4  February 2019  18876522.9  7945350332.060995  2820148.7"
      ]
     },
     "execution_count": 67,
     "metadata": {},
     "output_type": "execute_result"
    }
   ],
   "source": [
    "df2_2 = df2.loc[:, 'Month_n':'Orders_n'] # вырезаем датафрейм по клиентам \"NOZO\"\n",
    "df2_2.head(2)"
   ]
  },
  {
   "cell_type": "code",
   "execution_count": 68,
   "id": "6d4a3667",
   "metadata": {},
   "outputs": [
    {
     "data": {
      "text/plain": [
       "((12, 4), (12, 4))"
      ]
     },
     "execution_count": 68,
     "metadata": {},
     "output_type": "execute_result"
    }
   ],
   "source": [
    "df2_1.shape, df2_2.shape"
   ]
  },
  {
   "cell_type": "markdown",
   "id": "d87f25e3",
   "metadata": {},
   "source": [
    "Датафреймы приведены к необходимому виду. Проверим, нет ли пропусков в каждом из них:"
   ]
  },
  {
   "cell_type": "code",
   "execution_count": 69,
   "id": "c6cdaec7",
   "metadata": {},
   "outputs": [
    {
     "data": {
      "text/plain": [
       "Month_s     0\n",
       "Orders_s    0\n",
       "GMV_s       0\n",
       "Items_s     0\n",
       "dtype: int64"
      ]
     },
     "execution_count": 69,
     "metadata": {},
     "output_type": "execute_result"
    }
   ],
   "source": [
    "df2_1.isna().sum() # сумма пропусков в каждом столбце"
   ]
  },
  {
   "cell_type": "code",
   "execution_count": 70,
   "id": "dd074edf",
   "metadata": {},
   "outputs": [
    {
     "data": {
      "text/plain": [
       "Month_n     0\n",
       "Items_n     0\n",
       "GMV_n       0\n",
       "Orders_n    0\n",
       "dtype: int64"
      ]
     },
     "execution_count": 70,
     "metadata": {},
     "output_type": "execute_result"
    }
   ],
   "source": [
    "df2_2.isna().sum() # сумма пропусков в каждом столбце"
   ]
  },
  {
   "cell_type": "markdown",
   "id": "5f9c4e6a",
   "metadata": {},
   "source": [
    "Все ячейки заполнены. Последний шаг - преобразование числовых данных из типа str в float, чтобы с ними можно было производить операции:"
   ]
  },
  {
   "cell_type": "code",
   "execution_count": 71,
   "id": "ba62c7a4",
   "metadata": {},
   "outputs": [
    {
     "data": {
      "text/plain": [
       "Month_s      object\n",
       "Orders_s    float64\n",
       "GMV_s       float64\n",
       "Items_s     float64\n",
       "dtype: object"
      ]
     },
     "execution_count": 71,
     "metadata": {},
     "output_type": "execute_result"
    }
   ],
   "source": [
    "df2_1['Orders_s'] = pd.to_numeric(df2_1['Orders_s'])\n",
    "df2_1['GMV_s'] = pd.to_numeric(df2_1['GMV_s'])\n",
    "df2_1['Items_s'] = pd.to_numeric(df2_1['Items_s'])\n",
    "\n",
    "df2_1.dtypes"
   ]
  },
  {
   "cell_type": "code",
   "execution_count": 72,
   "id": "030c0d36",
   "metadata": {},
   "outputs": [
    {
     "data": {
      "text/plain": [
       "Month_n      object\n",
       "Items_n     float64\n",
       "GMV_n       float64\n",
       "Orders_n    float64\n",
       "dtype: object"
      ]
     },
     "execution_count": 72,
     "metadata": {},
     "output_type": "execute_result"
    }
   ],
   "source": [
    "df2_2['Orders_n'] = pd.to_numeric(df2_2['Orders_n'])\n",
    "df2_2['GMV_n'] = pd.to_numeric(df2_2['GMV_n'])\n",
    "df2_2['Items_n'] = pd.to_numeric(df2_2['Items_n'])\n",
    "\n",
    "df2_2.dtypes"
   ]
  },
  {
   "cell_type": "markdown",
   "id": "95e1ed04",
   "metadata": {},
   "source": [
    "Датафреймы полностью готовы к обработке."
   ]
  },
  {
   "cell_type": "markdown",
   "id": "fbff3b28",
   "metadata": {},
   "source": [
    "<h3>1.4 ЛИСТ \"NEW CLIENTS COHORT\"</h3>"
   ]
  },
  {
   "cell_type": "markdown",
   "id": "45712e2d",
   "metadata": {},
   "source": [
    "Какой вид имеет таблица?"
   ]
  },
  {
   "cell_type": "code",
   "execution_count": 73,
   "id": "e46e20b0",
   "metadata": {},
   "outputs": [
    {
     "data": {
      "text/html": [
       "<div>\n",
       "<style scoped>\n",
       "    .dataframe tbody tr th:only-of-type {\n",
       "        vertical-align: middle;\n",
       "    }\n",
       "\n",
       "    .dataframe tbody tr th {\n",
       "        vertical-align: top;\n",
       "    }\n",
       "\n",
       "    .dataframe thead th {\n",
       "        text-align: right;\n",
       "    }\n",
       "</style>\n",
       "<table border=\"1\" class=\"dataframe\">\n",
       "  <thead>\n",
       "    <tr style=\"text-align: right;\">\n",
       "      <th></th>\n",
       "      <th>Unnamed: 0</th>\n",
       "      <th>Unnamed: 1</th>\n",
       "      <th>Unnamed: 2</th>\n",
       "      <th>Unnamed: 3</th>\n",
       "      <th>Unnamed: 4</th>\n",
       "      <th>Unnamed: 5</th>\n",
       "      <th>Unnamed: 6</th>\n",
       "      <th>Unnamed: 7</th>\n",
       "      <th>Unnamed: 8</th>\n",
       "      <th>Unnamed: 9</th>\n",
       "      <th>Unnamed: 10</th>\n",
       "      <th>Unnamed: 11</th>\n",
       "      <th>Unnamed: 12</th>\n",
       "      <th>Unnamed: 13</th>\n",
       "      <th>Unnamed: 14</th>\n",
       "    </tr>\n",
       "  </thead>\n",
       "  <tbody>\n",
       "    <tr>\n",
       "      <th>0</th>\n",
       "      <td>NaN</td>\n",
       "      <td>NaN</td>\n",
       "      <td>NaN</td>\n",
       "      <td>NaN</td>\n",
       "      <td>NaN</td>\n",
       "      <td>NaN</td>\n",
       "      <td>NaN</td>\n",
       "      <td>NaN</td>\n",
       "      <td>NaN</td>\n",
       "      <td>NaN</td>\n",
       "      <td>NaN</td>\n",
       "      <td>NaN</td>\n",
       "      <td>NaN</td>\n",
       "      <td>NaN</td>\n",
       "      <td>NaN</td>\n",
       "    </tr>\n",
       "    <tr>\n",
       "      <th>1</th>\n",
       "      <td>NaN</td>\n",
       "      <td>NaN</td>\n",
       "      <td>NaN</td>\n",
       "      <td>NaN</td>\n",
       "      <td>NaN</td>\n",
       "      <td>NaN</td>\n",
       "      <td>NaN</td>\n",
       "      <td>NaN</td>\n",
       "      <td>NaN</td>\n",
       "      <td>NaN</td>\n",
       "      <td>NaN</td>\n",
       "      <td>NaN</td>\n",
       "      <td>NaN</td>\n",
       "      <td>NaN</td>\n",
       "      <td>NaN</td>\n",
       "    </tr>\n",
       "    <tr>\n",
       "      <th>2</th>\n",
       "      <td>NaN</td>\n",
       "      <td>NaN</td>\n",
       "      <td>Spasibo Clients</td>\n",
       "      <td>- 1st order was made with Spasibo points</td>\n",
       "      <td>NaN</td>\n",
       "      <td>NaN</td>\n",
       "      <td>NaN</td>\n",
       "      <td>NaN</td>\n",
       "      <td>All NOZO Clients</td>\n",
       "      <td>NaN</td>\n",
       "      <td>- new clients</td>\n",
       "      <td>NaN</td>\n",
       "      <td>NaN</td>\n",
       "      <td>NaN</td>\n",
       "      <td>NaN</td>\n",
       "    </tr>\n",
       "    <tr>\n",
       "      <th>3</th>\n",
       "      <td>NaN</td>\n",
       "      <td>NaN</td>\n",
       "      <td>NaN</td>\n",
       "      <td>NaN</td>\n",
       "      <td>NaN</td>\n",
       "      <td>NaN</td>\n",
       "      <td>NaN</td>\n",
       "      <td>NaN</td>\n",
       "      <td>NaN</td>\n",
       "      <td>NaN</td>\n",
       "      <td>NaN</td>\n",
       "      <td>NaN</td>\n",
       "      <td>NaN</td>\n",
       "      <td>NaN</td>\n",
       "      <td>NaN</td>\n",
       "    </tr>\n",
       "    <tr>\n",
       "      <th>4</th>\n",
       "      <td>NaN</td>\n",
       "      <td>NaN</td>\n",
       "      <td>Client Base for April 2018</td>\n",
       "      <td>NaN</td>\n",
       "      <td>NaN</td>\n",
       "      <td>NaN</td>\n",
       "      <td>NaN</td>\n",
       "      <td>NaN</td>\n",
       "      <td>Client Base for April 2018</td>\n",
       "      <td>NaN</td>\n",
       "      <td>NaN</td>\n",
       "      <td>NaN</td>\n",
       "      <td>NaN</td>\n",
       "      <td>NaN</td>\n",
       "      <td>NaN</td>\n",
       "    </tr>\n",
       "    <tr>\n",
       "      <th>5</th>\n",
       "      <td>NaN</td>\n",
       "      <td>NaN</td>\n",
       "      <td>56288.7</td>\n",
       "      <td>NaN</td>\n",
       "      <td>NaN</td>\n",
       "      <td>NaN</td>\n",
       "      <td>NaN</td>\n",
       "      <td>NaN</td>\n",
       "      <td>343546.2</td>\n",
       "      <td>NaN</td>\n",
       "      <td>NaN</td>\n",
       "      <td>NaN</td>\n",
       "      <td>NaN</td>\n",
       "      <td>NaN</td>\n",
       "      <td>NaN</td>\n",
       "    </tr>\n",
       "    <tr>\n",
       "      <th>6</th>\n",
       "      <td>NaN</td>\n",
       "      <td>NaN</td>\n",
       "      <td>NaN</td>\n",
       "      <td>NaN</td>\n",
       "      <td>NaN</td>\n",
       "      <td>NaN</td>\n",
       "      <td>NaN</td>\n",
       "      <td>NaN</td>\n",
       "      <td>NaN</td>\n",
       "      <td>NaN</td>\n",
       "      <td>NaN</td>\n",
       "      <td>NaN</td>\n",
       "      <td>NaN</td>\n",
       "      <td>NaN</td>\n",
       "      <td>NaN</td>\n",
       "    </tr>\n",
       "    <tr>\n",
       "      <th>7</th>\n",
       "      <td>NaN</td>\n",
       "      <td>NaN</td>\n",
       "      <td>Month</td>\n",
       "      <td>Year</td>\n",
       "      <td>Sum of Retained_Clients</td>\n",
       "      <td>GMV</td>\n",
       "      <td>Orders</td>\n",
       "      <td>NaN</td>\n",
       "      <td>Month</td>\n",
       "      <td>Year</td>\n",
       "      <td>Sum of Retained_Clients</td>\n",
       "      <td>GMV</td>\n",
       "      <td>Orders</td>\n",
       "      <td>NaN</td>\n",
       "      <td>NaN</td>\n",
       "    </tr>\n",
       "    <tr>\n",
       "      <th>8</th>\n",
       "      <td>NaN</td>\n",
       "      <td>NaN</td>\n",
       "      <td>5</td>\n",
       "      <td>2018</td>\n",
       "      <td>8255.2</td>\n",
       "      <td>23177561.9014</td>\n",
       "      <td>10749.1</td>\n",
       "      <td>NaN</td>\n",
       "      <td>5</td>\n",
       "      <td>2018</td>\n",
       "      <td>39021.8</td>\n",
       "      <td>154945358.020504</td>\n",
       "      <td>58374.6</td>\n",
       "      <td>NaN</td>\n",
       "      <td>NaN</td>\n",
       "    </tr>\n",
       "    <tr>\n",
       "      <th>9</th>\n",
       "      <td>NaN</td>\n",
       "      <td>NaN</td>\n",
       "      <td>6</td>\n",
       "      <td>2018</td>\n",
       "      <td>6563.7</td>\n",
       "      <td>19868381.0898</td>\n",
       "      <td>9596.5</td>\n",
       "      <td>NaN</td>\n",
       "      <td>6</td>\n",
       "      <td>2018</td>\n",
       "      <td>30057.7</td>\n",
       "      <td>116976178.866385</td>\n",
       "      <td>43887.2</td>\n",
       "      <td>NaN</td>\n",
       "      <td>NaN</td>\n",
       "    </tr>\n",
       "  </tbody>\n",
       "</table>\n",
       "</div>"
      ],
      "text/plain": [
       "   Unnamed: 0  Unnamed: 1                  Unnamed: 2  \\\n",
       "0         NaN         NaN                         NaN   \n",
       "1         NaN         NaN                         NaN   \n",
       "2         NaN         NaN            Spasibo Clients    \n",
       "3         NaN         NaN                         NaN   \n",
       "4         NaN         NaN  Client Base for April 2018   \n",
       "5         NaN         NaN                     56288.7   \n",
       "6         NaN         NaN                         NaN   \n",
       "7         NaN         NaN                      Month    \n",
       "8         NaN         NaN                           5   \n",
       "9         NaN         NaN                           6   \n",
       "\n",
       "                                  Unnamed: 3               Unnamed: 4  \\\n",
       "0                                        NaN                      NaN   \n",
       "1                                        NaN                      NaN   \n",
       "2   - 1st order was made with Spasibo points                      NaN   \n",
       "3                                        NaN                      NaN   \n",
       "4                                        NaN                      NaN   \n",
       "5                                        NaN                      NaN   \n",
       "6                                        NaN                      NaN   \n",
       "7                                       Year  Sum of Retained_Clients   \n",
       "8                                       2018                   8255.2   \n",
       "9                                       2018                   6563.7   \n",
       "\n",
       "      Unnamed: 5 Unnamed: 6  Unnamed: 7                  Unnamed: 8  \\\n",
       "0            NaN        NaN         NaN                         NaN   \n",
       "1            NaN        NaN         NaN                         NaN   \n",
       "2            NaN        NaN         NaN            All NOZO Clients   \n",
       "3            NaN        NaN         NaN                         NaN   \n",
       "4            NaN        NaN         NaN  Client Base for April 2018   \n",
       "5            NaN        NaN         NaN                    343546.2   \n",
       "6            NaN        NaN         NaN                         NaN   \n",
       "7            GMV     Orders         NaN                      Month    \n",
       "8  23177561.9014    10749.1         NaN                           5   \n",
       "9  19868381.0898     9596.5         NaN                           6   \n",
       "\n",
       "  Unnamed: 9              Unnamed: 10       Unnamed: 11 Unnamed: 12  \\\n",
       "0        NaN                      NaN               NaN         NaN   \n",
       "1        NaN                      NaN               NaN         NaN   \n",
       "2        NaN           - new clients                NaN         NaN   \n",
       "3        NaN                      NaN               NaN         NaN   \n",
       "4        NaN                      NaN               NaN         NaN   \n",
       "5        NaN                      NaN               NaN         NaN   \n",
       "6        NaN                      NaN               NaN         NaN   \n",
       "7       Year  Sum of Retained_Clients               GMV      Orders   \n",
       "8       2018                  39021.8  154945358.020504     58374.6   \n",
       "9       2018                  30057.7  116976178.866385     43887.2   \n",
       "\n",
       "   Unnamed: 13  Unnamed: 14  \n",
       "0          NaN          NaN  \n",
       "1          NaN          NaN  \n",
       "2          NaN          NaN  \n",
       "3          NaN          NaN  \n",
       "4          NaN          NaN  \n",
       "5          NaN          NaN  \n",
       "6          NaN          NaN  \n",
       "7          NaN          NaN  \n",
       "8          NaN          NaN  \n",
       "9          NaN          NaN  "
      ]
     },
     "execution_count": 73,
     "metadata": {},
     "output_type": "execute_result"
    }
   ],
   "source": [
    "df3.head(10)"
   ]
  },
  {
   "cell_type": "markdown",
   "id": "38a7e03c",
   "metadata": {},
   "source": [
    "Данная таблица содержит следующие комментарии:\n",
    "\n",
    "1. Клиенты \"Спасибо\" - первый заказ был сделан с использованием бонусов \"Спасибо\"\n",
    "2. Клиентская база к апрелю 2018г. - 56288.7\n",
    "3. Все клиенты NOZO - новые клиенты\n",
    "4. Клиентская база к апрелю 2018г. - 343546.2\n",
    "\n",
    "Эти комментарии необходимы в качестве пояснений, но будут лишними в процессе обработки данных, поэтому в дальнейшем будут удалены."
   ]
  },
  {
   "cell_type": "markdown",
   "id": "490a0c30",
   "metadata": {},
   "source": [
    "По аналогии с предыдущим пунктом, обработаем всю таблицу, а потом разделим на два фрейма: по клиентам \"Спасибо\" и по клиентам \"NOZO\":"
   ]
  },
  {
   "cell_type": "code",
   "execution_count": 74,
   "id": "e06f0fce",
   "metadata": {},
   "outputs": [],
   "source": [
    "df3 = df3.drop(df3.columns[[0, 1, 7, 13, 14]], axis=1) # удаляем ненужные столбцы"
   ]
  },
  {
   "cell_type": "code",
   "execution_count": 75,
   "id": "9ac0e131",
   "metadata": {},
   "outputs": [],
   "source": [
    "df3.drop(labels=[0, 1, 2, 3, 4, 5, 6], axis=0, inplace=True) # удаляем ненужные строки"
   ]
  },
  {
   "cell_type": "code",
   "execution_count": 76,
   "id": "a4ccafb1",
   "metadata": {},
   "outputs": [],
   "source": [
    "# переименовываем столбцы\n",
    "\n",
    "# _s означает, что столбцы относятся к 'Spasibo clients'\n",
    "# _n означает, что столбцы относятся к 'NOZO clients'\n",
    "\n",
    "df3.rename(columns={\n",
    "    'Unnamed: 2': 'Month_s',\n",
    "    'Unnamed: 3': 'Year_s',\n",
    "    'Unnamed: 4': 'Sum_of_Retained_Clients_s',\n",
    "    'Unnamed: 5': 'GMV_s',\n",
    "    'Unnamed: 6': 'Orders_s',\n",
    "    \n",
    "    'Unnamed: 8': 'Month_n',\n",
    "    'Unnamed: 9': 'Year_n',\n",
    "    'Unnamed: 10': 'Sum_of_Retained_Clients_n',\n",
    "    'Unnamed: 11': 'GMV_n',\n",
    "    'Unnamed: 12': 'Orders_n'\n",
    "}, inplace=True)"
   ]
  },
  {
   "cell_type": "code",
   "execution_count": 77,
   "id": "ba7c9e81",
   "metadata": {},
   "outputs": [],
   "source": [
    "df3.drop(labels=[7], axis=0, inplace=True) # удаляем первую строку"
   ]
  },
  {
   "cell_type": "code",
   "execution_count": 78,
   "id": "f60f52e2",
   "metadata": {},
   "outputs": [
    {
     "data": {
      "text/html": [
       "<div>\n",
       "<style scoped>\n",
       "    .dataframe tbody tr th:only-of-type {\n",
       "        vertical-align: middle;\n",
       "    }\n",
       "\n",
       "    .dataframe tbody tr th {\n",
       "        vertical-align: top;\n",
       "    }\n",
       "\n",
       "    .dataframe thead th {\n",
       "        text-align: right;\n",
       "    }\n",
       "</style>\n",
       "<table border=\"1\" class=\"dataframe\">\n",
       "  <thead>\n",
       "    <tr style=\"text-align: right;\">\n",
       "      <th></th>\n",
       "      <th>Month_s</th>\n",
       "      <th>Year_s</th>\n",
       "      <th>Sum_of_Retained_Clients_s</th>\n",
       "      <th>GMV_s</th>\n",
       "      <th>Orders_s</th>\n",
       "    </tr>\n",
       "  </thead>\n",
       "  <tbody>\n",
       "    <tr>\n",
       "      <th>8</th>\n",
       "      <td>5</td>\n",
       "      <td>2018</td>\n",
       "      <td>8255.2</td>\n",
       "      <td>23177561.9014</td>\n",
       "      <td>10749.1</td>\n",
       "    </tr>\n",
       "    <tr>\n",
       "      <th>9</th>\n",
       "      <td>6</td>\n",
       "      <td>2018</td>\n",
       "      <td>6563.7</td>\n",
       "      <td>19868381.0898</td>\n",
       "      <td>9596.5</td>\n",
       "    </tr>\n",
       "  </tbody>\n",
       "</table>\n",
       "</div>"
      ],
      "text/plain": [
       "  Month_s Year_s Sum_of_Retained_Clients_s          GMV_s Orders_s\n",
       "8       5   2018                    8255.2  23177561.9014  10749.1\n",
       "9       6   2018                    6563.7  19868381.0898   9596.5"
      ]
     },
     "execution_count": 78,
     "metadata": {},
     "output_type": "execute_result"
    }
   ],
   "source": [
    "df3_1 = df3.loc[:, 'Month_s':'Orders_s'] # вырезаем датафрейм по клиентам \"Спасибо\"\n",
    "df3_1.head(2)"
   ]
  },
  {
   "cell_type": "code",
   "execution_count": 79,
   "id": "a4336b48",
   "metadata": {},
   "outputs": [
    {
     "data": {
      "text/html": [
       "<div>\n",
       "<style scoped>\n",
       "    .dataframe tbody tr th:only-of-type {\n",
       "        vertical-align: middle;\n",
       "    }\n",
       "\n",
       "    .dataframe tbody tr th {\n",
       "        vertical-align: top;\n",
       "    }\n",
       "\n",
       "    .dataframe thead th {\n",
       "        text-align: right;\n",
       "    }\n",
       "</style>\n",
       "<table border=\"1\" class=\"dataframe\">\n",
       "  <thead>\n",
       "    <tr style=\"text-align: right;\">\n",
       "      <th></th>\n",
       "      <th>Month_n</th>\n",
       "      <th>Year_n</th>\n",
       "      <th>Sum_of_Retained_Clients_n</th>\n",
       "      <th>GMV_n</th>\n",
       "      <th>Orders_n</th>\n",
       "    </tr>\n",
       "  </thead>\n",
       "  <tbody>\n",
       "    <tr>\n",
       "      <th>8</th>\n",
       "      <td>5</td>\n",
       "      <td>2018</td>\n",
       "      <td>39021.8</td>\n",
       "      <td>154945358.020504</td>\n",
       "      <td>58374.6</td>\n",
       "    </tr>\n",
       "    <tr>\n",
       "      <th>9</th>\n",
       "      <td>6</td>\n",
       "      <td>2018</td>\n",
       "      <td>30057.7</td>\n",
       "      <td>116976178.866385</td>\n",
       "      <td>43887.2</td>\n",
       "    </tr>\n",
       "  </tbody>\n",
       "</table>\n",
       "</div>"
      ],
      "text/plain": [
       "  Month_n Year_n Sum_of_Retained_Clients_n             GMV_n Orders_n\n",
       "8       5   2018                   39021.8  154945358.020504  58374.6\n",
       "9       6   2018                   30057.7  116976178.866385  43887.2"
      ]
     },
     "execution_count": 79,
     "metadata": {},
     "output_type": "execute_result"
    }
   ],
   "source": [
    "df3_2 = df3.loc[:, 'Month_n':'Orders_n'] # вырезаем датафрейм по клиентам NOZO\n",
    "df3_2.head(2)"
   ]
  },
  {
   "cell_type": "code",
   "execution_count": 80,
   "id": "f52a05fa",
   "metadata": {},
   "outputs": [
    {
     "data": {
      "text/plain": [
       "((16, 5), (16, 5))"
      ]
     },
     "execution_count": 80,
     "metadata": {},
     "output_type": "execute_result"
    }
   ],
   "source": [
    "df3_1.shape, df3_2.shape"
   ]
  },
  {
   "cell_type": "markdown",
   "id": "381e7d9b",
   "metadata": {},
   "source": [
    "Датафреймы приведены к необходимому виду. Проверим, нет ли пропусков в каждом из них:"
   ]
  },
  {
   "cell_type": "code",
   "execution_count": 81,
   "id": "f81d8d91",
   "metadata": {},
   "outputs": [
    {
     "data": {
      "text/plain": [
       "Month_s                      0\n",
       "Year_s                       0\n",
       "Sum_of_Retained_Clients_s    0\n",
       "GMV_s                        0\n",
       "Orders_s                     0\n",
       "dtype: int64"
      ]
     },
     "execution_count": 81,
     "metadata": {},
     "output_type": "execute_result"
    }
   ],
   "source": [
    "df3_1.isna().sum() # сумма пропусков в каждом столбце"
   ]
  },
  {
   "cell_type": "code",
   "execution_count": 82,
   "id": "b2c9105e",
   "metadata": {},
   "outputs": [
    {
     "data": {
      "text/plain": [
       "Month_n                      0\n",
       "Year_n                       0\n",
       "Sum_of_Retained_Clients_n    0\n",
       "GMV_n                        0\n",
       "Orders_n                     0\n",
       "dtype: int64"
      ]
     },
     "execution_count": 82,
     "metadata": {},
     "output_type": "execute_result"
    }
   ],
   "source": [
    "df3_2.isna().sum() # сумма пропусков в каждом столбце"
   ]
  },
  {
   "cell_type": "markdown",
   "id": "9b569a8d",
   "metadata": {},
   "source": [
    "Все ячейки заполнены. Осталось преобразовать числовые данные из типа str в float, чтобы с ними можно было производить операции:"
   ]
  },
  {
   "cell_type": "code",
   "execution_count": 83,
   "id": "51a9ae5b",
   "metadata": {},
   "outputs": [
    {
     "data": {
      "text/plain": [
       "Month_s                        int64\n",
       "Year_s                         int64\n",
       "Sum_of_Retained_Clients_s    float64\n",
       "GMV_s                        float64\n",
       "Orders_s                     float64\n",
       "dtype: object"
      ]
     },
     "execution_count": 83,
     "metadata": {},
     "output_type": "execute_result"
    }
   ],
   "source": [
    "df3_1['Month_s'] = pd.to_numeric(df3_1['Month_s'])\n",
    "df3_1['Year_s'] = pd.to_numeric(df3_1['Year_s'])\n",
    "df3_1['Sum_of_Retained_Clients_s'] = pd.to_numeric(df3_1['Sum_of_Retained_Clients_s'])\n",
    "df3_1['GMV_s'] = pd.to_numeric(df3_1['GMV_s'])\n",
    "df3_1['Orders_s'] = pd.to_numeric(df3_1['Orders_s'])\n",
    "\n",
    "df3_1.dtypes"
   ]
  },
  {
   "cell_type": "code",
   "execution_count": 84,
   "id": "621993f9",
   "metadata": {},
   "outputs": [
    {
     "data": {
      "text/plain": [
       "Month_n                        int64\n",
       "Year_n                         int64\n",
       "Sum_of_Retained_Clients_n    float64\n",
       "GMV_n                        float64\n",
       "Orders_n                     float64\n",
       "dtype: object"
      ]
     },
     "execution_count": 84,
     "metadata": {},
     "output_type": "execute_result"
    }
   ],
   "source": [
    "df3_2['Month_n'] = pd.to_numeric(df3_2['Month_n'])\n",
    "df3_2['Year_n'] = pd.to_numeric(df3_2['Year_n'])\n",
    "df3_2['Sum_of_Retained_Clients_n'] = pd.to_numeric(df3_2['Sum_of_Retained_Clients_n'])\n",
    "df3_2['GMV_n'] = pd.to_numeric(df3_2['GMV_n'])\n",
    "df3_2['Orders_n'] = pd.to_numeric(df3_2['Orders_n'])\n",
    "\n",
    "df3_2.dtypes"
   ]
  },
  {
   "cell_type": "markdown",
   "id": "c0ffeee1",
   "metadata": {},
   "source": [
    "На этом разведочный анализ данных завершен. Все датафреймы готовы к дальнейшей обработке."
   ]
  },
  {
   "cell_type": "markdown",
   "id": "499b3b9a",
   "metadata": {},
   "source": [
    "<h2>2. ВИЗУАЛИЗАЦИЯ ИСХОДНЫХ ДАННЫХ</h2>"
   ]
  },
  {
   "cell_type": "markdown",
   "id": "7a5a367f",
   "metadata": {},
   "source": [
    "<h3>2.1 СОЗДАНИЕ ПОНЯТНЫХ ПЕРЕМЕННЫХ</h3>"
   ]
  },
  {
   "cell_type": "markdown",
   "id": "639d048e",
   "metadata": {},
   "source": [
    "Чтобы в процессе анализа не запутаться в названиях переменных, соответствующих каждому датафрейму, переименуем их:"
   ]
  },
  {
   "cell_type": "code",
   "execution_count": 85,
   "id": "6585e0e9",
   "metadata": {},
   "outputs": [],
   "source": [
    "points = df1\n",
    "clients_s = df2_1\n",
    "clients_n = df2_2\n",
    "cohort_s = df3_1\n",
    "cohort_n = df3_2"
   ]
  },
  {
   "cell_type": "markdown",
   "id": "9bf066ce",
   "metadata": {},
   "source": [
    "Также в процессе разведочного анализа было выяснено, что в одной из таблиц содержались комментарии по размеру клиентских баз. Занесем их в отдельные переменные:"
   ]
  },
  {
   "cell_type": "code",
   "execution_count": 86,
   "id": "2f231299",
   "metadata": {},
   "outputs": [],
   "source": [
    "cl_base_s = 56288.7 # клиентская база \"Спасибо\" к апрелю 2018г.\n",
    "cl_base_n = 343546.2 # клиентская база NOZO к апрелю 2018г."
   ]
  },
  {
   "cell_type": "markdown",
   "id": "03b669cf",
   "metadata": {},
   "source": [
    "<h3>2.2 ВЫВОД ТАБЛИЦ</h3>"
   ]
  },
  {
   "cell_type": "markdown",
   "id": "bde1cc71",
   "metadata": {},
   "source": [
    "Для вывода таблиц бок-о-бок нам потребуется функция:"
   ]
  },
  {
   "cell_type": "code",
   "execution_count": 87,
   "id": "7125d5d5",
   "metadata": {},
   "outputs": [],
   "source": [
    "def display_side_by_side(*args):\n",
    "    html_str=''\n",
    "    for df in args:\n",
    "        html_str+=df.to_html()\n",
    "    display_html(html_str.replace('table','table style=\"display:inline\"'),raw=True)"
   ]
  },
  {
   "cell_type": "markdown",
   "id": "9b8faaf9",
   "metadata": {},
   "source": [
    "Источник кода: https://bit.ly/3bVgbdc"
   ]
  },
  {
   "cell_type": "code",
   "execution_count": 88,
   "id": "4ec9f121",
   "metadata": {},
   "outputs": [
    {
     "data": {
      "text/html": [
       "<div>\n",
       "<style scoped>\n",
       "    .dataframe tbody tr th:only-of-type {\n",
       "        vertical-align: middle;\n",
       "    }\n",
       "\n",
       "    .dataframe tbody tr th {\n",
       "        vertical-align: top;\n",
       "    }\n",
       "\n",
       "    .dataframe thead th {\n",
       "        text-align: right;\n",
       "    }\n",
       "</style>\n",
       "<table border=\"1\" class=\"dataframe\">\n",
       "  <thead>\n",
       "    <tr style=\"text-align: right;\">\n",
       "      <th></th>\n",
       "      <th>Months</th>\n",
       "      <th>Accrual points, RUB</th>\n",
       "      <th>Write-off points, RUB</th>\n",
       "    </tr>\n",
       "  </thead>\n",
       "  <tbody>\n",
       "    <tr>\n",
       "      <th>1</th>\n",
       "      <td>January 2019</td>\n",
       "      <td>6.084105e+07</td>\n",
       "      <td>3.945653e+08</td>\n",
       "    </tr>\n",
       "    <tr>\n",
       "      <th>2</th>\n",
       "      <td>February 2019</td>\n",
       "      <td>8.161185e+07</td>\n",
       "      <td>4.914330e+08</td>\n",
       "    </tr>\n",
       "    <tr>\n",
       "      <th>3</th>\n",
       "      <td>March 2019</td>\n",
       "      <td>7.387041e+07</td>\n",
       "      <td>4.572452e+08</td>\n",
       "    </tr>\n",
       "    <tr>\n",
       "      <th>4</th>\n",
       "      <td>April 2019</td>\n",
       "      <td>6.394449e+07</td>\n",
       "      <td>4.365612e+08</td>\n",
       "    </tr>\n",
       "    <tr>\n",
       "      <th>5</th>\n",
       "      <td>May 2019</td>\n",
       "      <td>6.628483e+07</td>\n",
       "      <td>4.483558e+08</td>\n",
       "    </tr>\n",
       "    <tr>\n",
       "      <th>6</th>\n",
       "      <td>June 2019</td>\n",
       "      <td>4.894842e+07</td>\n",
       "      <td>4.098297e+08</td>\n",
       "    </tr>\n",
       "    <tr>\n",
       "      <th>7</th>\n",
       "      <td>July 2019</td>\n",
       "      <td>5.856699e+07</td>\n",
       "      <td>4.462786e+08</td>\n",
       "    </tr>\n",
       "    <tr>\n",
       "      <th>8</th>\n",
       "      <td>August 2019</td>\n",
       "      <td>9.323797e+07</td>\n",
       "      <td>4.890571e+08</td>\n",
       "    </tr>\n",
       "    <tr>\n",
       "      <th>9</th>\n",
       "      <td>September 2019</td>\n",
       "      <td>7.823140e+07</td>\n",
       "      <td>5.030062e+08</td>\n",
       "    </tr>\n",
       "    <tr>\n",
       "      <th>10</th>\n",
       "      <td>October 2019</td>\n",
       "      <td>9.373171e+07</td>\n",
       "      <td>5.898544e+08</td>\n",
       "    </tr>\n",
       "    <tr>\n",
       "      <th>11</th>\n",
       "      <td>November 2019</td>\n",
       "      <td>1.165622e+08</td>\n",
       "      <td>7.181562e+08</td>\n",
       "    </tr>\n",
       "    <tr>\n",
       "      <th>12</th>\n",
       "      <td>December 2019</td>\n",
       "      <td>1.846408e+08</td>\n",
       "      <td>9.255148e+08</td>\n",
       "    </tr>\n",
       "    <tr>\n",
       "      <th>13</th>\n",
       "      <td>Total</td>\n",
       "      <td>1.020472e+09</td>\n",
       "      <td>6.309857e+09</td>\n",
       "    </tr>\n",
       "  </tbody>\n",
       "</table>\n",
       "</div>"
      ],
      "text/plain": [
       "            Months  Accrual points, RUB  Write-off points, RUB\n",
       "1     January 2019         6.084105e+07           3.945653e+08\n",
       "2    February 2019         8.161185e+07           4.914330e+08\n",
       "3       March 2019         7.387041e+07           4.572452e+08\n",
       "4       April 2019         6.394449e+07           4.365612e+08\n",
       "5         May 2019         6.628483e+07           4.483558e+08\n",
       "6        June 2019         4.894842e+07           4.098297e+08\n",
       "7        July 2019         5.856699e+07           4.462786e+08\n",
       "8      August 2019         9.323797e+07           4.890571e+08\n",
       "9   September 2019         7.823140e+07           5.030062e+08\n",
       "10    October 2019         9.373171e+07           5.898544e+08\n",
       "11   November 2019         1.165622e+08           7.181562e+08\n",
       "12   December 2019         1.846408e+08           9.255148e+08\n",
       "13           Total         1.020472e+09           6.309857e+09"
      ]
     },
     "execution_count": 88,
     "metadata": {},
     "output_type": "execute_result"
    }
   ],
   "source": [
    "points"
   ]
  },
  {
   "cell_type": "markdown",
   "id": "e2275e9f",
   "metadata": {},
   "source": [
    "<b>Accrual points, RUB</b> - начисленные баллы в соответствующем месяце<br>\n",
    "<b>Write-off points, RUB</b> - списанные баллы в соответствующем месяце"
   ]
  },
  {
   "cell_type": "code",
   "execution_count": 89,
   "id": "b0d75d66",
   "metadata": {},
   "outputs": [
    {
     "data": {
      "text/html": [
       "<table style=\"display:inline\" border=\"1\" class=\"dataframe\">\n",
       "  <thead>\n",
       "    <tr style=\"text-align: right;\">\n",
       "      <th></th>\n",
       "      <th>Month_s</th>\n",
       "      <th>Orders_s</th>\n",
       "      <th>GMV_s</th>\n",
       "      <th>Items_s</th>\n",
       "    </tr>\n",
       "  </thead>\n",
       "  <tbody>\n",
       "    <tr>\n",
       "      <th>3</th>\n",
       "      <td>January 2019</td>\n",
       "      <td>1082112.9</td>\n",
       "      <td>1.465070e+09</td>\n",
       "      <td>1778499.2</td>\n",
       "    </tr>\n",
       "    <tr>\n",
       "      <th>4</th>\n",
       "      <td>February 2019</td>\n",
       "      <td>978052.5</td>\n",
       "      <td>1.551899e+09</td>\n",
       "      <td>2255318.6</td>\n",
       "    </tr>\n",
       "    <tr>\n",
       "      <th>5</th>\n",
       "      <td>March 2019</td>\n",
       "      <td>928638.6</td>\n",
       "      <td>1.480984e+09</td>\n",
       "      <td>2126120.3</td>\n",
       "    </tr>\n",
       "    <tr>\n",
       "      <th>6</th>\n",
       "      <td>April 2019</td>\n",
       "      <td>1061719.7</td>\n",
       "      <td>1.536529e+09</td>\n",
       "      <td>2396394.8</td>\n",
       "    </tr>\n",
       "    <tr>\n",
       "      <th>7</th>\n",
       "      <td>May 2019</td>\n",
       "      <td>1125077.0</td>\n",
       "      <td>1.735549e+09</td>\n",
       "      <td>2792319.7</td>\n",
       "    </tr>\n",
       "    <tr>\n",
       "      <th>8</th>\n",
       "      <td>June 2019</td>\n",
       "      <td>956285.7</td>\n",
       "      <td>1.733175e+09</td>\n",
       "      <td>3094501.5</td>\n",
       "    </tr>\n",
       "    <tr>\n",
       "      <th>9</th>\n",
       "      <td>July 2019</td>\n",
       "      <td>1007093.6</td>\n",
       "      <td>1.936924e+09</td>\n",
       "      <td>3673375.3</td>\n",
       "    </tr>\n",
       "    <tr>\n",
       "      <th>10</th>\n",
       "      <td>August 2019</td>\n",
       "      <td>1108857.3</td>\n",
       "      <td>2.049963e+09</td>\n",
       "      <td>4088129.4</td>\n",
       "    </tr>\n",
       "    <tr>\n",
       "      <th>11</th>\n",
       "      <td>September 2019</td>\n",
       "      <td>1187873.3</td>\n",
       "      <td>2.067659e+09</td>\n",
       "      <td>4109483.1</td>\n",
       "    </tr>\n",
       "    <tr>\n",
       "      <th>12</th>\n",
       "      <td>October 2019</td>\n",
       "      <td>1425886.9</td>\n",
       "      <td>2.496168e+09</td>\n",
       "      <td>4991752.5</td>\n",
       "    </tr>\n",
       "    <tr>\n",
       "      <th>13</th>\n",
       "      <td>November 2019</td>\n",
       "      <td>1602958.9</td>\n",
       "      <td>3.144199e+09</td>\n",
       "      <td>6147230.6</td>\n",
       "    </tr>\n",
       "    <tr>\n",
       "      <th>14</th>\n",
       "      <td>December 2019</td>\n",
       "      <td>1971790.9</td>\n",
       "      <td>4.073423e+09</td>\n",
       "      <td>6911351.7</td>\n",
       "    </tr>\n",
       "  </tbody>\n",
       "</table style=\"display:inline\"><table style=\"display:inline\" border=\"1\" class=\"dataframe\">\n",
       "  <thead>\n",
       "    <tr style=\"text-align: right;\">\n",
       "      <th></th>\n",
       "      <th>Month_n</th>\n",
       "      <th>Items_n</th>\n",
       "      <th>GMV_n</th>\n",
       "      <th>Orders_n</th>\n",
       "    </tr>\n",
       "  </thead>\n",
       "  <tbody>\n",
       "    <tr>\n",
       "      <th>3</th>\n",
       "      <td>January 2019</td>\n",
       "      <td>13993381.7</td>\n",
       "      <td>7.404596e+09</td>\n",
       "      <td>3335760.4</td>\n",
       "    </tr>\n",
       "    <tr>\n",
       "      <th>4</th>\n",
       "      <td>February 2019</td>\n",
       "      <td>18876522.9</td>\n",
       "      <td>7.945350e+09</td>\n",
       "      <td>2820148.7</td>\n",
       "    </tr>\n",
       "    <tr>\n",
       "      <th>5</th>\n",
       "      <td>March 2019</td>\n",
       "      <td>18047293.5</td>\n",
       "      <td>7.933406e+09</td>\n",
       "      <td>2944831.8</td>\n",
       "    </tr>\n",
       "    <tr>\n",
       "      <th>6</th>\n",
       "      <td>April 2019</td>\n",
       "      <td>18452525.9</td>\n",
       "      <td>8.386170e+09</td>\n",
       "      <td>3630486.0</td>\n",
       "    </tr>\n",
       "    <tr>\n",
       "      <th>7</th>\n",
       "      <td>May 2019</td>\n",
       "      <td>18268070.8</td>\n",
       "      <td>9.010071e+09</td>\n",
       "      <td>3977444.1</td>\n",
       "    </tr>\n",
       "    <tr>\n",
       "      <th>8</th>\n",
       "      <td>June 2019</td>\n",
       "      <td>19017175.8</td>\n",
       "      <td>9.679066e+09</td>\n",
       "      <td>4248048.4</td>\n",
       "    </tr>\n",
       "    <tr>\n",
       "      <th>9</th>\n",
       "      <td>July 2019</td>\n",
       "      <td>20791232.9</td>\n",
       "      <td>1.069358e+10</td>\n",
       "      <td>4777612.0</td>\n",
       "    </tr>\n",
       "    <tr>\n",
       "      <th>10</th>\n",
       "      <td>August 2019</td>\n",
       "      <td>22878756.4</td>\n",
       "      <td>1.140193e+10</td>\n",
       "      <td>5307094.0</td>\n",
       "    </tr>\n",
       "    <tr>\n",
       "      <th>11</th>\n",
       "      <td>September 2019</td>\n",
       "      <td>23019290.3</td>\n",
       "      <td>1.152734e+10</td>\n",
       "      <td>5560919.3</td>\n",
       "    </tr>\n",
       "    <tr>\n",
       "      <th>12</th>\n",
       "      <td>October 2019</td>\n",
       "      <td>26639989.4</td>\n",
       "      <td>1.344904e+10</td>\n",
       "      <td>6445298.4</td>\n",
       "    </tr>\n",
       "    <tr>\n",
       "      <th>13</th>\n",
       "      <td>November 2019</td>\n",
       "      <td>33112214.1</td>\n",
       "      <td>1.711987e+10</td>\n",
       "      <td>7510521.8</td>\n",
       "    </tr>\n",
       "    <tr>\n",
       "      <th>14</th>\n",
       "      <td>December 2019</td>\n",
       "      <td>38745584.0</td>\n",
       "      <td>2.211257e+10</td>\n",
       "      <td>9679925.8</td>\n",
       "    </tr>\n",
       "  </tbody>\n",
       "</table style=\"display:inline\">"
      ]
     },
     "metadata": {},
     "output_type": "display_data"
    }
   ],
   "source": [
    "display_side_by_side(clients_s, clients_n)"
   ]
  },
  {
   "cell_type": "markdown",
   "id": "fe490d85",
   "metadata": {},
   "source": [
    "<b>Orders_s</b> - количество заказов, в которых был списан хотя бы один бонус \"Спасибо\", в соответствующем месяце<br>\n",
    "<b>Orders_n</b> - количество заказов в целом по компании в соответствующем месяце<br>\n",
    "<b>Items</b> - количество проданных товаров с этих заказов в соответствующем месяце<br>\n",
    "<b>GMV</b> - совокупный объем продаж в соответствующем месяце"
   ]
  },
  {
   "cell_type": "code",
   "execution_count": 90,
   "id": "00705c15",
   "metadata": {},
   "outputs": [
    {
     "data": {
      "text/html": [
       "<table style=\"display:inline\" border=\"1\" class=\"dataframe\">\n",
       "  <thead>\n",
       "    <tr style=\"text-align: right;\">\n",
       "      <th></th>\n",
       "      <th>Month_s</th>\n",
       "      <th>Year_s</th>\n",
       "      <th>Sum_of_Retained_Clients_s</th>\n",
       "      <th>GMV_s</th>\n",
       "      <th>Orders_s</th>\n",
       "    </tr>\n",
       "  </thead>\n",
       "  <tbody>\n",
       "    <tr>\n",
       "      <th>8</th>\n",
       "      <td>5</td>\n",
       "      <td>2018</td>\n",
       "      <td>8255.2</td>\n",
       "      <td>2.317756e+07</td>\n",
       "      <td>10749.1</td>\n",
       "    </tr>\n",
       "    <tr>\n",
       "      <th>9</th>\n",
       "      <td>6</td>\n",
       "      <td>2018</td>\n",
       "      <td>6563.7</td>\n",
       "      <td>1.986838e+07</td>\n",
       "      <td>9596.5</td>\n",
       "    </tr>\n",
       "    <tr>\n",
       "      <th>10</th>\n",
       "      <td>7</td>\n",
       "      <td>2018</td>\n",
       "      <td>5919.4</td>\n",
       "      <td>1.724444e+07</td>\n",
       "      <td>7820.0</td>\n",
       "    </tr>\n",
       "    <tr>\n",
       "      <th>11</th>\n",
       "      <td>8</td>\n",
       "      <td>2018</td>\n",
       "      <td>6223.7</td>\n",
       "      <td>1.677418e+07</td>\n",
       "      <td>7723.1</td>\n",
       "    </tr>\n",
       "    <tr>\n",
       "      <th>12</th>\n",
       "      <td>9</td>\n",
       "      <td>2018</td>\n",
       "      <td>6696.3</td>\n",
       "      <td>1.821825e+07</td>\n",
       "      <td>8705.7</td>\n",
       "    </tr>\n",
       "    <tr>\n",
       "      <th>13</th>\n",
       "      <td>10</td>\n",
       "      <td>2018</td>\n",
       "      <td>7364.4</td>\n",
       "      <td>1.891271e+07</td>\n",
       "      <td>9751.2</td>\n",
       "    </tr>\n",
       "    <tr>\n",
       "      <th>14</th>\n",
       "      <td>11</td>\n",
       "      <td>2018</td>\n",
       "      <td>7743.5</td>\n",
       "      <td>2.210852e+07</td>\n",
       "      <td>11616.1</td>\n",
       "    </tr>\n",
       "    <tr>\n",
       "      <th>15</th>\n",
       "      <td>12</td>\n",
       "      <td>2018</td>\n",
       "      <td>9100.1</td>\n",
       "      <td>2.536961e+07</td>\n",
       "      <td>12807.8</td>\n",
       "    </tr>\n",
       "    <tr>\n",
       "      <th>16</th>\n",
       "      <td>1</td>\n",
       "      <td>2019</td>\n",
       "      <td>7196.1</td>\n",
       "      <td>3.186856e+07</td>\n",
       "      <td>14919.2</td>\n",
       "    </tr>\n",
       "    <tr>\n",
       "      <th>17</th>\n",
       "      <td>2</td>\n",
       "      <td>2019</td>\n",
       "      <td>7522.5</td>\n",
       "      <td>2.169215e+07</td>\n",
       "      <td>11583.8</td>\n",
       "    </tr>\n",
       "    <tr>\n",
       "      <th>18</th>\n",
       "      <td>3</td>\n",
       "      <td>2019</td>\n",
       "      <td>6466.8</td>\n",
       "      <td>2.583251e+07</td>\n",
       "      <td>10796.7</td>\n",
       "    </tr>\n",
       "    <tr>\n",
       "      <th>19</th>\n",
       "      <td>4</td>\n",
       "      <td>2019</td>\n",
       "      <td>7646.6</td>\n",
       "      <td>2.367534e+07</td>\n",
       "      <td>9793.7</td>\n",
       "    </tr>\n",
       "    <tr>\n",
       "      <th>20</th>\n",
       "      <td>5</td>\n",
       "      <td>2019</td>\n",
       "      <td>7378.0</td>\n",
       "      <td>2.538841e+07</td>\n",
       "      <td>12763.6</td>\n",
       "    </tr>\n",
       "    <tr>\n",
       "      <th>21</th>\n",
       "      <td>6</td>\n",
       "      <td>2019</td>\n",
       "      <td>7099.2</td>\n",
       "      <td>2.397507e+07</td>\n",
       "      <td>12367.5</td>\n",
       "    </tr>\n",
       "    <tr>\n",
       "      <th>22</th>\n",
       "      <td>7</td>\n",
       "      <td>2019</td>\n",
       "      <td>7520.8</td>\n",
       "      <td>2.482628e+07</td>\n",
       "      <td>12549.4</td>\n",
       "    </tr>\n",
       "    <tr>\n",
       "      <th>23</th>\n",
       "      <td>8</td>\n",
       "      <td>2019</td>\n",
       "      <td>7950.9</td>\n",
       "      <td>2.643604e+07</td>\n",
       "      <td>13678.2</td>\n",
       "    </tr>\n",
       "  </tbody>\n",
       "</table style=\"display:inline\"><table style=\"display:inline\" border=\"1\" class=\"dataframe\">\n",
       "  <thead>\n",
       "    <tr style=\"text-align: right;\">\n",
       "      <th></th>\n",
       "      <th>Month_n</th>\n",
       "      <th>Year_n</th>\n",
       "      <th>Sum_of_Retained_Clients_n</th>\n",
       "      <th>GMV_n</th>\n",
       "      <th>Orders_n</th>\n",
       "    </tr>\n",
       "  </thead>\n",
       "  <tbody>\n",
       "    <tr>\n",
       "      <th>8</th>\n",
       "      <td>5</td>\n",
       "      <td>2018</td>\n",
       "      <td>39021.8</td>\n",
       "      <td>1.549454e+08</td>\n",
       "      <td>58374.6</td>\n",
       "    </tr>\n",
       "    <tr>\n",
       "      <th>9</th>\n",
       "      <td>6</td>\n",
       "      <td>2018</td>\n",
       "      <td>30057.7</td>\n",
       "      <td>1.169762e+08</td>\n",
       "      <td>43887.2</td>\n",
       "    </tr>\n",
       "    <tr>\n",
       "      <th>10</th>\n",
       "      <td>7</td>\n",
       "      <td>2018</td>\n",
       "      <td>27341.1</td>\n",
       "      <td>1.005114e+08</td>\n",
       "      <td>39953.4</td>\n",
       "    </tr>\n",
       "    <tr>\n",
       "      <th>11</th>\n",
       "      <td>8</td>\n",
       "      <td>2018</td>\n",
       "      <td>28456.3</td>\n",
       "      <td>1.059686e+08</td>\n",
       "      <td>43537.0</td>\n",
       "    </tr>\n",
       "    <tr>\n",
       "      <th>12</th>\n",
       "      <td>9</td>\n",
       "      <td>2018</td>\n",
       "      <td>30430.0</td>\n",
       "      <td>1.114240e+08</td>\n",
       "      <td>48098.1</td>\n",
       "    </tr>\n",
       "    <tr>\n",
       "      <th>13</th>\n",
       "      <td>10</td>\n",
       "      <td>2018</td>\n",
       "      <td>31363.3</td>\n",
       "      <td>1.097981e+08</td>\n",
       "      <td>50284.3</td>\n",
       "    </tr>\n",
       "    <tr>\n",
       "      <th>14</th>\n",
       "      <td>11</td>\n",
       "      <td>2018</td>\n",
       "      <td>34397.8</td>\n",
       "      <td>1.334966e+08</td>\n",
       "      <td>57215.2</td>\n",
       "    </tr>\n",
       "    <tr>\n",
       "      <th>15</th>\n",
       "      <td>12</td>\n",
       "      <td>2018</td>\n",
       "      <td>37976.3</td>\n",
       "      <td>1.558041e+08</td>\n",
       "      <td>63525.6</td>\n",
       "    </tr>\n",
       "    <tr>\n",
       "      <th>16</th>\n",
       "      <td>1</td>\n",
       "      <td>2019</td>\n",
       "      <td>31902.2</td>\n",
       "      <td>1.099715e+08</td>\n",
       "      <td>52154.3</td>\n",
       "    </tr>\n",
       "    <tr>\n",
       "      <th>17</th>\n",
       "      <td>2</td>\n",
       "      <td>2019</td>\n",
       "      <td>28738.5</td>\n",
       "      <td>1.160231e+08</td>\n",
       "      <td>42122.6</td>\n",
       "    </tr>\n",
       "    <tr>\n",
       "      <th>18</th>\n",
       "      <td>3</td>\n",
       "      <td>2019</td>\n",
       "      <td>27735.5</td>\n",
       "      <td>1.223917e+08</td>\n",
       "      <td>44614.8</td>\n",
       "    </tr>\n",
       "    <tr>\n",
       "      <th>19</th>\n",
       "      <td>4</td>\n",
       "      <td>2019</td>\n",
       "      <td>31421.1</td>\n",
       "      <td>1.264663e+08</td>\n",
       "      <td>59462.6</td>\n",
       "    </tr>\n",
       "    <tr>\n",
       "      <th>20</th>\n",
       "      <td>5</td>\n",
       "      <td>2019</td>\n",
       "      <td>30634.0</td>\n",
       "      <td>1.265926e+08</td>\n",
       "      <td>58359.3</td>\n",
       "    </tr>\n",
       "    <tr>\n",
       "      <th>21</th>\n",
       "      <td>6</td>\n",
       "      <td>2019</td>\n",
       "      <td>29845.2</td>\n",
       "      <td>1.261311e+08</td>\n",
       "      <td>56659.3</td>\n",
       "    </tr>\n",
       "    <tr>\n",
       "      <th>22</th>\n",
       "      <td>7</td>\n",
       "      <td>2019</td>\n",
       "      <td>31053.9</td>\n",
       "      <td>1.320414e+08</td>\n",
       "      <td>59527.2</td>\n",
       "    </tr>\n",
       "    <tr>\n",
       "      <th>23</th>\n",
       "      <td>8</td>\n",
       "      <td>2019</td>\n",
       "      <td>32544.8</td>\n",
       "      <td>1.350040e+08</td>\n",
       "      <td>63403.2</td>\n",
       "    </tr>\n",
       "  </tbody>\n",
       "</table style=\"display:inline\">"
      ]
     },
     "metadata": {},
     "output_type": "display_data"
    }
   ],
   "source": [
    "display_side_by_side(cohort_s, cohort_n) \n",
    "# когорты клиентов, сделавших свой первый заказ с бонусами \"Спасибо\" в апреле-18 и их последующий перформанс"
   ]
  },
  {
   "cell_type": "markdown",
   "id": "47ead110",
   "metadata": {},
   "source": [
    "<b>Sum_of_Retained_Clients</b> - количество оставшихся клиентов<br>\n",
    "<b>GMV</b> - совокупный объем продаж в соответствующем месяце<br>\n",
    "<b>Orders</b> - количество заказов, в которых был списан хотя бы один бонус \"Спасибо\", в соответствующем месяце"
   ]
  },
  {
   "cell_type": "markdown",
   "id": "01ed4663",
   "metadata": {},
   "source": [
    "Теперь имеется представление о том, как выглядят таблицы, а также они имеют понятные названия. Можно переходить непосредственно к анализу данных."
   ]
  },
  {
   "cell_type": "markdown",
   "id": "178a12e2",
   "metadata": {},
   "source": [
    "<h2>3. ВЫДВИЖЕНИЕ И ТЕСТИРОВАНИЕ ГИПОТЕЗ</h2>"
   ]
  },
  {
   "cell_type": "markdown",
   "id": "b7b780b6",
   "metadata": {},
   "source": [
    "<h3>3.1 ГИПОТЕЗА №1: ОПТИМАЛЬНОЕ РЕШЕНИЕ - ОТКАЗ ОТ УЧАСТИЯ В ПРОГРАММЕ \"СБЕРСПАСИБО\"</h3>"
   ]
  },
  {
   "cell_type": "markdown",
   "id": "04ccce91",
   "metadata": {},
   "source": [
    "Чтобы подтвердить или опровергнуть данную гипотезу, необходимо проанализировать данные и ответить на следующие вопросы:\n",
    "\n",
    "1. Оказывает ли значительное влияние возможность частично оплатить заказ с использованием бонусов \"Спасибо\" на желание покупателей приобрести товары в NOZO?\n",
    "2. Зависит ли увеличение/уменьшение GMV от повышения/понижения числа клиентов, пользующихся бонусами \"Спасибо\" и их лояльности? Как именно?\n",
    "3. Сколько тратит компания NOZO на данную программу?"
   ]
  },
  {
   "cell_type": "markdown",
   "id": "6135a901",
   "metadata": {},
   "source": [
    "<b>3.1.1. Оказывает ли значительное влияние возможность частично оплатить заказ с использованием бонусов \"Спасибо\" на желание покупателей приобрести товар в NOZO?</b>"
   ]
  },
  {
   "cell_type": "markdown",
   "id": "07aa7832",
   "metadata": {},
   "source": [
    "Для ответа на данный вопрос необходимо выяснить, как коррелируют между собой две величины: 1) увеличение/уменьшение доли заказов, в которых был списан хотя бы один бонус \"Спасибо\", в общем числе заказов от месяца к месяцу в 2019г.; 2) увеличение/уменьшение общего показателя GMV от месяца к месяцу в 2019г."
   ]
  },
  {
   "cell_type": "code",
   "execution_count": 91,
   "id": "c883ef13",
   "metadata": {},
   "outputs": [],
   "source": [
    "# сначала создадим переменные для величин 1 и 2\n",
    "\n",
    "ratio1 = clients_s['Orders_s'] / clients_n['Orders_n'] # доли заказов с бонусами \"Спасибо\" в общем числе заказов\n",
    "\n",
    "ratio1_0 = pd.DataFrame({'Index': [1, 2, 3, 4, 5, 6, 7, 8, 9, 10, 11],\n",
    "                         'Ratio1_0': ratio1.loc[3:13]}) # срез с января по ноябрь\n",
    "\n",
    "ratio1_1 = pd.DataFrame({'Index': [1, 2, 3, 4, 5, 6, 7, 8, 9, 10, 11],\n",
    "                         'Ratio1_1': ratio1.loc[4:14]}) # срез с февраля по декабрь\n",
    "\n",
    "ratios1 = pd.merge(ratio1_1, ratio1_0, on='Index', how='left')\n",
    "val_1 = pd.to_numeric(ratios1['Ratio1_1']) - pd.to_numeric(ratios1['Ratio1_0']) # изменение доли заказов от месяца к месяцу\n",
    "\n",
    "gmv2 = clients_n['GMV_n'] # GMV в целом по компании NOZO\n",
    "\n",
    "gmv2_0 = pd.DataFrame({'Index': [1, 2, 3, 4, 5, 6, 7, 8, 9, 10, 11],\n",
    "                         'GMV2_0': gmv2.loc[3:13]}) # срез с января по ноябрь\n",
    "\n",
    "gmv2_1 = pd.DataFrame({'Index': [1, 2, 3, 4, 5, 6, 7, 8, 9, 10, 11],\n",
    "                         'GMV2_1': gmv2.loc[4:14]}) # срез с февраля по декабрь\n",
    "\n",
    "gmvs2 = pd.merge(gmv2_1, gmv2_0, on='Index', how='left')\n",
    "val_2 = pd.to_numeric(gmvs2['GMV2_1']) - pd.to_numeric(gmvs2['GMV2_0']) # изменение GMV от месяца к месяцу"
   ]
  },
  {
   "cell_type": "code",
   "execution_count": 92,
   "id": "7f808681",
   "metadata": {},
   "outputs": [
    {
     "name": "stdout",
     "output_type": "stream",
     "text": [
      "0.12085607177945495\n"
     ]
    }
   ],
   "source": [
    "# найдем коэффициент корреляции между данными величинами\n",
    "\n",
    "print(pearsonr(val_1, val_2)[0])"
   ]
  },
  {
   "cell_type": "markdown",
   "id": "a6e9bc3d",
   "metadata": {},
   "source": [
    "<b>Вывод:</b> коэффициент корреляции является положительным числом, но по модулю близок к нулю. Таким образом, изменение GMV прямо зависит от изменения доли заказов, оплаченных в том числе с помощью бонусов \"Спасибо\", в общем числе заказов, но эта зависимость крайне несущественна, то есть на желание потребителя приобрести товары именно в NOZO оказывают влияние преимущественно другие факторы. Из этого наблюдения можно сделать предположение о том, что отказ компанией NOZO от участия в программе \"СберСпасибо\" незначительно повлияет на общий объем оборота товаров."
   ]
  },
  {
   "cell_type": "markdown",
   "id": "d834d38c",
   "metadata": {},
   "source": [
    "<b>3.1.2. Зависит ли увеличение/уменьшение GMV от повышения/понижения степени лояльности клиентов? Как именно?</b>"
   ]
  },
  {
   "cell_type": "markdown",
   "id": "a463cd03",
   "metadata": {},
   "source": [
    "Теперь проанализируем когорты клиентов, по которым предоставлены данные. Для ответа на вопрос необходимо рассчитать величину и направление корреляции между следующими величинами: 1) изменение доли оставшихся новых клиентов, пользующихся программой \"СберСпасибо\", в общей когорте \"клиентов-новичков\" от месяца к месяцу с мая 2018г. по август 2019г.; 2) изменение GMV на пространстве всех \"клиентов-новичков\" компании NOZO от месяца к месяцу с мая 2018г. по август 2019г.."
   ]
  },
  {
   "cell_type": "code",
   "execution_count": 93,
   "id": "8e68a94c",
   "metadata": {},
   "outputs": [],
   "source": [
    "# сначала создадим переменные для величин 1 и 2\n",
    "\n",
    "clients_ret = cohort_s['Sum_of_Retained_Clients_s'] / cohort_n['Sum_of_Retained_Clients_n'] \n",
    "# доля оставшихся клиентов, пользующихся программой \"СберСпасибо\", в общем количестве клиентов\n",
    "\n",
    "clients_ret_0 = pd.DataFrame({'Index': [1, 2, 3, 4, 5, 6, 7, 8, 9, 10, 11, 12, 13, 14, 15],\n",
    "                         'Clients_ret_0': clients_ret.loc[8:22]}) # срез с мая 2018 по июль 2019\n",
    "\n",
    "clients_ret_1 = pd.DataFrame({'Index': [1, 2, 3, 4, 5, 6, 7, 8, 9, 10, 11, 12, 13, 14, 15],\n",
    "                         'Clients_ret_1': clients_ret.loc[9:23]}) # срез с июня 2018 по август 2019\n",
    "\n",
    "clients_ret_table = pd.merge(clients_ret_1, clients_ret_0, on='Index', how='left')\n",
    "feat_1 = pd.to_numeric(clients_ret_table['Clients_ret_1']) - pd.to_numeric(clients_ret_table['Clients_ret_0'])\n",
    "# изменение доли клиентов от месяца к месяцу\n",
    "\n",
    "cohort_gmv = cohort_n['GMV_n'] # GMV в целом по когорте \"клиентов-новичков\" NOZO\n",
    "\n",
    "cohort_gmv_0 = pd.DataFrame({'Index': [1, 2, 3, 4, 5, 6, 7, 8, 9, 10, 11, 12, 13, 14, 15],\n",
    "                         'Cohort_gmv_0': cohort_gmv.loc[8:22]}) # срез с мая 2018 по июль 2019\n",
    "\n",
    "cohort_gmv_1 = pd.DataFrame({'Index': [1, 2, 3, 4, 5, 6, 7, 8, 9, 10, 11, 12, 13, 14, 15],\n",
    "                         'Сohort_gmv_1': cohort_gmv.loc[9:23]}) # срез с июня 2018 по август 2019\n",
    "\n",
    "cohorts_gmv = pd.merge(cohort_gmv_1, cohort_gmv_0, on='Index', how='left')\n",
    "feat_2 = pd.to_numeric(cohorts_gmv['Сohort_gmv_1']) - pd.to_numeric(cohorts_gmv['Cohort_gmv_0']) \n",
    "# изменение GMV от месяца к месяцу"
   ]
  },
  {
   "cell_type": "code",
   "execution_count": 94,
   "id": "e29f1dd5",
   "metadata": {},
   "outputs": [
    {
     "name": "stdout",
     "output_type": "stream",
     "text": [
      "0.17047145079854475\n"
     ]
    }
   ],
   "source": [
    "# найдем коэффициент корреляции между данными величинами\n",
    "\n",
    "print(pearsonr(feat_1, feat_2)[0])"
   ]
  },
  {
   "cell_type": "markdown",
   "id": "c876cc62",
   "metadata": {},
   "source": [
    "<b>Вывод:</b> снова получено значение положительное и близкое к нулю по модулю, следовательно, изменение GMV компании NOZO практически не зависит от лояльности клиентов, которые предпочитают оплачивать заказы, используя бонусы \"Спасибо\". Таким образом, на лояльность клиентов в целом влияют другие факторы, а не непосредственно участие компании NOZO в программе от Сбербанка."
   ]
  },
  {
   "cell_type": "markdown",
   "id": "a72a386a",
   "metadata": {},
   "source": [
    "<b>3.1.3. Сколько тратит компания NOZO на данную программу?</b>"
   ]
  },
  {
   "cell_type": "markdown",
   "id": "033f3914",
   "metadata": {},
   "source": [
    "По условию, компания NOZO несет два вида расходов в рамках данной программы:<br>\n",
    "1) комиссия от суммы, списанной в качестве бонусов покупателями;<br>\n",
    "2) начисления бонусов покупателям от денежной части чека\n",
    "\n",
    "Чтобы расчитать расходы компании на программу, нужно учесть обе статьи."
   ]
  },
  {
   "cell_type": "code",
   "execution_count": 95,
   "id": "b7917034",
   "metadata": {},
   "outputs": [
    {
     "name": "stdout",
     "output_type": "stream",
     "text": [
      "Компания NOZO тратит на программу \"Спасибо\" от 199 до 219 миллионов рублей в год\n"
     ]
    }
   ],
   "source": [
    "# средняя ставка комиссии Сбербанку:\n",
    "ratio_x = ((points['Write-off points, RUB'][13] / points['Accrual points, RUB'][13]))/points.shape[0]\n",
    "\n",
    "if ratio_x <= 7:\n",
    "    fee = 0.03\n",
    "elif 7 < ratio_x <= 9:\n",
    "    fee = 0.04\n",
    "elif 9 < ratio_x <= 11:\n",
    "    fee = 0.05\n",
    "else:\n",
    "    fee = 0.07\n",
    "    \n",
    "# расходы по первой статье\n",
    "expense_1 = (points['Write-off points, RUB'][13]) * fee\n",
    "\n",
    "# расходы по второй статье\n",
    "\n",
    "# минимальное значение\n",
    "expense_2_min = ((points['Accrual points, RUB'])[13]) * 0.01\n",
    "# максимальное значение\n",
    "expense_2_max = ((points['Accrual points, RUB'])[13]) * 0.03\n",
    "\n",
    "print('Компания NOZO тратит на программу \"Спасибо\" от', round(expense_1+expense_2_min) // 1000000, 'до', round(expense_1+expense_2_max) // 1000000, 'миллионов рублей в год')"
   ]
  },
  {
   "cell_type": "markdown",
   "id": "bb2410cb",
   "metadata": {},
   "source": [
    "<b>Вывод</b>"
   ]
  },
  {
   "cell_type": "markdown",
   "id": "4bbe5c54",
   "metadata": {},
   "source": [
    "Гипотеза о том, что оптимальным решением является отказ от программы партнерства со Сбербанком, подтверждается. Компания NOZO может тратить до 219 миллионов рублей в год на данную программу, но данные расходы не оправдываются в связи с тем, что:<br>\n",
    "а) возможность частично оплатить заказ с использованием баллов \"Спасибо\" не оказывает существенное влияние на желание покупателей приобрести товар в NOZO;<br>\n",
    "б) изменение GMV компании NOZO практически не зависит от лояльности клиентов, предпочитающих оплачивать заказы, используя баллы \"Спасибо\""
   ]
  },
  {
   "cell_type": "markdown",
   "id": "9f2e8059",
   "metadata": {},
   "source": [
    "<h3>3.2. ГИПОТЕЗА №2: ИЗМЕНЕНИЕ СТАВКИ НАЧИСЛЕНИЙ ПОМОЖЕТ ПОЛУЧИТЬ Б<font color='deeppink'>О</font>ЛЬШУЮ ВЫГОДУ</h3>"
   ]
  },
  {
   "cell_type": "markdown",
   "id": "7921e3ae",
   "metadata": {},
   "source": [
    "Чтобы проверить, изменить ли ставку начислений клиентам (т.е. остаться партнером программы, но изменить условия), необходимо выяснить, стоит ли ее увеличить или уменьшить."
   ]
  },
  {
   "cell_type": "markdown",
   "id": "2fbe57dd",
   "metadata": {},
   "source": [
    "<b>3.2.1. Уменьшение ставки начислений</b>"
   ]
  },
  {
   "cell_type": "markdown",
   "id": "98ff0d77",
   "metadata": {},
   "source": [
    "Если ставка начислений сокращается (соответственно, уменьшается переменная expense_2_min (expense_2_max)), то возрастает коэффициент, равный отношению списанных баллов к начисленным, а значит увеличивается коммисия Сбербанку. Таким образом, данный вариант удовлетворит Сбер, но под вопросом выгода компании NOZO."
   ]
  },
  {
   "cell_type": "markdown",
   "id": "41492b7c",
   "metadata": {},
   "source": [
    "Предположим, \"потолок\" начисленных баллов теперь составляет не 3%, а 2% (т.е. NOZO теперь может начислить клиенту 1 или 2% от денежной части). Тогда расчеты будут выглядеть следующим образом:"
   ]
  },
  {
   "cell_type": "code",
   "execution_count": 96,
   "id": "c1bc582c",
   "metadata": {},
   "outputs": [
    {
     "name": "stdout",
     "output_type": "stream",
     "text": [
      "Комиссия Сбербанку не изменилась\n"
     ]
    }
   ],
   "source": [
    "# измененная сумма начисленных баллов\n",
    "points['Accrual points, RUB'] = points['Accrual points, RUB'] * 2 / 3\n",
    "\n",
    "# средняя ставка комиссии Сбербанку:\n",
    "ratio_x_1 = ((points['Write-off points, RUB'][13] / points['Accrual points, RUB'][13]))/points.shape[0]\n",
    "\n",
    "if ratio_x_1 <= 7:\n",
    "    fee_1 = 0.03\n",
    "elif 7 < ratio_x_1 <= 9:\n",
    "    fee_1 = 0.04\n",
    "elif 9 < ratio_x_1 <= 11:\n",
    "    fee_1 = 0.05\n",
    "else:\n",
    "    fee_1 = 0.07\n",
    "    \n",
    "if fee_1 == fee:\n",
    "    print('Комиссия Сбербанку не изменилась')\n",
    "else:\n",
    "    print('Комиссия Сбербанку изменилась')"
   ]
  },
  {
   "cell_type": "markdown",
   "id": "a9461cbe",
   "metadata": {},
   "source": [
    "Таким образом, если понизить ставку начислений клиентам с денежной части чека, для Сбербанка это не будет являться убытком. Проверим, насколько данное решение поможет сократить расходы компании NOZO:"
   ]
  },
  {
   "cell_type": "code",
   "execution_count": 97,
   "id": "6e72cb92",
   "metadata": {},
   "outputs": [
    {
     "name": "stdout",
     "output_type": "stream",
     "text": [
      "Компания NOZO может тратить на программу \"Спасибо\" от 199 до 202 миллионов рублей в год\n"
     ]
    }
   ],
   "source": [
    "# расходы по первой статье\n",
    "expense_1_1 = (points['Write-off points, RUB'][13]) * fee_1\n",
    "\n",
    "# максимальные расходы по второй статье\n",
    "expense_2_max_1 = ((points['Accrual points, RUB'])[13]) * 0.02\n",
    "\n",
    "print('Компания NOZO может тратить на программу \"Спасибо\" от', round(expense_1_1+expense_2_min) // 1000000, 'до', round(expense_1_1+expense_2_max_1) // 1000000, 'миллионов рублей в год')"
   ]
  },
  {
   "cell_type": "markdown",
   "id": "91adb88e",
   "metadata": {},
   "source": [
    "Заметно, что изменение ставки начислений поможет сократить расходы компании NOZO в среднем на 17 миллионов рублей в год, так как при определенном размере ставки комиссия Сбербанку по-прежнему не увеличивается."
   ]
  },
  {
   "cell_type": "markdown",
   "id": "5f36f249",
   "metadata": {},
   "source": [
    "<b>3.2.1. Увеличение ставки начислений</b>"
   ]
  },
  {
   "cell_type": "markdown",
   "id": "2d9efb00",
   "metadata": {},
   "source": [
    "Если ставка начислений растет, то растут и расходы компании NOZO по начислению баллов клиентам, но сокращается комиссия, которую компания обязана выплатить Сбербанку. В этом случае банк может не устроить такая сделка, поэтому у компании NOZO появятся новые барьеры."
   ]
  },
  {
   "cell_type": "markdown",
   "id": "a866ae4a",
   "metadata": {},
   "source": [
    "<b>Вывод</b>"
   ]
  },
  {
   "cell_type": "markdown",
   "id": "c8512cbd",
   "metadata": {},
   "source": [
    "Оптимальное решение - оставить максимальную ставку начислений на уровне 2%, так как:<br>\n",
    "а) согласно выводам из пункта 3.1, изменение GMV компании NOZO практически не зависит от лояльности клиентов, предпочитающих оплачивать заказы, используя баллы \"Спасибо\" и возможность частично оплатить заказ с использованием баллов \"Спасибо\" не оказывает существенное влияние на желание покупателей приобрести товар в NOZO;<br>\n",
    "б) понижение верхнего порога ставки до меньшего значения несет достаточно большие риски, так как может отрицательно сказаться на лояльности клиентов и повлечь за собой негативные последствия<br>\n",
    "в) такое решение поможет компании NOZO сократить расходы на программу"
   ]
  },
  {
   "cell_type": "code",
   "execution_count": null,
   "id": "faf997da",
   "metadata": {},
   "outputs": [],
   "source": []
  }
 ],
 "metadata": {
  "kernelspec": {
   "display_name": "Python 3",
   "language": "python",
   "name": "python3"
  },
  "language_info": {
   "codemirror_mode": {
    "name": "ipython",
    "version": 3
   },
   "file_extension": ".py",
   "mimetype": "text/x-python",
   "name": "python",
   "nbconvert_exporter": "python",
   "pygments_lexer": "ipython3",
   "version": "3.8.8"
  }
 },
 "nbformat": 4,
 "nbformat_minor": 5
}
